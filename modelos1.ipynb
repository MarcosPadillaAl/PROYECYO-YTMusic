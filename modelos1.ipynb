{
 "cells": [
  {
   "attachments": {},
   "cell_type": "markdown",
   "metadata": {},
   "source": [
    "Grupo 7:\n",
    "- Daniel Martín González\n",
    "- Pablo Moreno Canduela\n",
    "- Marcos Padilla Alonso"
   ]
  },
  {
   "cell_type": "code",
   "execution_count": 2,
   "metadata": {},
   "outputs": [],
   "source": [
    "import networkx as nx\n",
    "import matplotlib.pyplot as plt\n",
    "\n",
    "import pandas as pd\n",
    "import numpy as np\n",
    "import csv"
   ]
  },
  {
   "attachments": {},
   "cell_type": "markdown",
   "metadata": {},
   "source": [
    "CONFIGURATION MODEL"
   ]
  },
  {
   "cell_type": "code",
   "execution_count": null,
   "metadata": {},
   "outputs": [],
   "source": [
    "G=nx.from_edgelist('aristas.csv')\n",
    "lista = []\n",
    "for x in sorted(G.degree, key=lambda x: x[1], reverse=True):\n",
    "    lista.append(x[1])\n",
    "\n",
    "print('Lista ordenada con los grados del grafo')\n",
    "print(lista)"
   ]
  },
  {
   "cell_type": "code",
   "execution_count": null,
   "metadata": {},
   "outputs": [],
   "source": [
    "\n",
    "GS = nx.configuration_model(lista) \n",
    "N = GS.number_of_nodes()\n",
    "L = GS.number_of_edges()\n",
    "average_degree = 2 * L / N\n",
    "numCConexas = nx.number_connected_components(GS)\n",
    "clustering_coef = nx.average_clustering(G)\n",
    "\n",
    "myD={'Nodos':N, 'enlaces':L, 'GradoMedio':average_degree, 'CConexas':numCConexas, 'Clustering': clustering_coef}\n",
    "df=pd.DataFrame.from_dict(myD, orient='index')\n",
    "print(df)"
   ]
  },
  {
   "cell_type": "code",
   "execution_count": null,
   "metadata": {},
   "outputs": [],
   "source": [
    "fig, ax = plt.subplots(1, 1)\n",
    "#Estos son los resultados obtenidos\n",
    "#Le pasamos una lista con la cordenada x (el grado), y otra con la y (la probabilidad de cada grado).\n",
    "#Para ello dividimos los valores de la lista de nx.degree_histogram entre el numero total de nodos.\n",
    "listax = []\n",
    "listay=[]\n",
    "cont = 0\n",
    "for elem in nx.degree_histogram(G):\n",
    "    if elem!=0:#si no es nulo lo guardamos\n",
    "        listax.append(cont)\n",
    "        listay.append(elem/G.number_of_nodes())\n",
    "    cont=cont+1\n",
    "\n",
    "ax.scatter(listax,listay, color='#00b3b3', label='Data')"
   ]
  },
  {
   "attachments": {},
   "cell_type": "markdown",
   "metadata": {},
   "source": [
    "BARBASI"
   ]
  },
  {
   "cell_type": "code",
   "execution_count": 25,
   "metadata": {},
   "outputs": [
    {
     "name": "stdout",
     "output_type": "stream",
     "text": [
      "                        0\n",
      "Nodos          635.000000\n",
      "enlaces       1266.000000\n",
      "GradoMedio       3.987402\n",
      "CConexas         1.000000\n",
      "CMinimoMedio     3.896883\n",
      "Clustering       0.040651\n"
     ]
    }
   ],
   "source": [
    "G = nx.Graph()\n",
    "G = nx.barabasi_albert_graph(635, 2)\n",
    "\n",
    "N = G.number_of_nodes()\n",
    "L = G.number_of_edges()\n",
    "average_degree = 2 * L / N\n",
    "numCConexas = nx.number_connected_components(G)\n",
    "CMinimoM = nx.average_shortest_path_length(G)\n",
    "clustering_coef = nx.average_clustering(G)\n",
    "myD={'Nodos':N, 'enlaces':L, 'GradoMedio':average_degree, 'CConexas':numCConexas, 'CMinimoMedio':CMinimoM,  'Clustering': clustering_coef}\n",
    "df=pd.DataFrame.from_dict(myD, orient='index')\n",
    "print(df)"
   ]
  },
  {
   "cell_type": "code",
   "execution_count": 26,
   "metadata": {},
   "outputs": [
    {
     "data": {
      "text/plain": [
       "<matplotlib.collections.PathCollection at 0x28d489632e0>"
      ]
     },
     "execution_count": 26,
     "metadata": {},
     "output_type": "execute_result"
    },
    {
     "data": {
      "image/png": "[encoded data removed]",
      "text/plain": [
       "<Figure size 640x480 with 1 Axes>"
      ]
     },
     "metadata": {},
     "output_type": "display_data"
    }
   ],
   "source": [
    "fig, ax = plt.subplots(1, 1)\n",
    "#Estos son los resultados obtenidos\n",
    "#Le pasamos una lista con la cordenada x (el grado), y otra con la y (la probabilidad de cada grado).\n",
    "#Para ello dividimos los valores de la lista de nx.degree_histogram entre el numero total de nodos.\n",
    "listax = []\n",
    "listay=[]\n",
    "cont = 0\n",
    "for elem in nx.degree_histogram(G):\n",
    "    if elem!=0:#si no es nulo lo guardamos\n",
    "        listax.append(cont)\n",
    "        listay.append(elem/G.number_of_nodes())\n",
    "    cont=cont+1\n",
    "\n",
    "ax.scatter(listax,listay, color='#00b3b3', label='Data')"
   ]
  },
  {
   "cell_type": "code",
   "execution_count": 6,
   "metadata": {},
   "outputs": [
    {
     "name": "stdout",
     "output_type": "stream",
     "text": [
      "                       0\n",
      "Nodos         635.000000\n",
      "enlaces       634.000000\n",
      "GradoMedio      1.996850\n",
      "CConexas        1.000000\n",
      "CMinimoMedio    7.188425\n",
      "Clustering      0.000000\n"
     ]
    }
   ],
   "source": [
    "G = nx.Graph()\n",
    "G = nx.barabasi_albert_graph(635, 1)\n",
    "\n",
    "\n",
    "N = G.number_of_nodes()\n",
    "L = G.number_of_edges()\n",
    "average_degree = 2 * L / N\n",
    "numCConexas = nx.number_connected_components(G)\n",
    "CMinimoM = nx.average_shortest_path_length(G)\n",
    "clustering_coef = nx.average_clustering(G)\n",
    "myD={'Nodos':N, 'enlaces':L, 'GradoMedio':average_degree, 'CConexas':numCConexas, 'CMinimoMedio':CMinimoM,  'Clustering': clustering_coef}\n",
    "df=pd.DataFrame.from_dict(myD, orient='index')\n",
    "print(df)"
   ]
  },
  {
   "cell_type": "code",
   "execution_count": 28,
   "metadata": {},
   "outputs": [
    {
     "data": {
      "text/plain": [
       "<matplotlib.collections.PathCollection at 0x28d4ac8df00>"
      ]
     },
     "execution_count": 28,
     "metadata": {},
     "output_type": "execute_result"
    },
    {
     "data": {
      "image/png": "[encoded data removed]",
      "text/plain": [
       "<Figure size 640x480 with 1 Axes>"
      ]
     },
     "metadata": {},
     "output_type": "display_data"
    }
   ],
   "source": [
    "fig, ax = plt.subplots(1, 1)\n",
    "#Estos son los resultados obtenidos\n",
    "#Le pasamos una lista con la cordenada x (el grado), y otra con la y (la probabilidad de cada grado).\n",
    "#Para ello dividimos los valores de la lista de nx.degree_histogram entre el numero total de nodos.\n",
    "listax = []\n",
    "listay=[]\n",
    "cont = 0\n",
    "for elem in nx.degree_histogram(G):\n",
    "    if elem!=0:#si no es nulo lo guardamos\n",
    "        listax.append(cont)\n",
    "        listay.append(elem/G.number_of_nodes())\n",
    "    cont=cont+1\n",
    "\n",
    "ax.scatter(listax,listay, color='#00b3b3', label='Data')"
   ]
  },
  {
   "attachments": {},
   "cell_type": "markdown",
   "metadata": {},
   "source": [
    "ERDOS"
   ]
  },
  {
   "cell_type": "code",
   "execution_count": 7,
   "metadata": {},
   "outputs": [
    {
     "name": "stdout",
     "output_type": "stream",
     "text": [
      "                     0\n",
      "Nodos       635.000000\n",
      "enlaces     851.000000\n",
      "GradoMedio    2.680315\n",
      "CConexas     51.000000\n",
      "Clustering    0.002677\n"
     ]
    }
   ],
   "source": [
    "G = nx.Graph()\n",
    "\n",
    "G = nx.erdos_renyi_graph(635, 0.004)\n",
    "N = G.number_of_nodes()\n",
    "L = G.number_of_edges()\n",
    "average_degree = 2 * L / N\n",
    "numCConexas = nx.number_connected_components(G)\n",
    "\n",
    "# Obtener las componentes conexas\n",
    "components = nx.connected_components(G)\n",
    "\n",
    "# Obtener la componente gigante\n",
    "giant_component = max(components, key=len)\n",
    "\n",
    "clustering_coef = nx.average_clustering(G)\n",
    "myD={'Nodos':N, 'enlaces':L, 'GradoMedio':average_degree, 'CConexas':numCConexas, 'Clustering': clustering_coef}\n",
    "df=pd.DataFrame.from_dict(myD, orient='index')\n",
    "print(df)"
   ]
  },
  {
   "cell_type": "code",
   "execution_count": 90,
   "metadata": {},
   "outputs": [
    {
     "data": {
      "text/plain": [
       "<matplotlib.collections.PathCollection at 0x28d4d767760>"
      ]
     },
     "execution_count": 90,
     "metadata": {},
     "output_type": "execute_result"
    },
    {
     "data": {
      "image/png": "[encoded data removed]",
      "text/plain": [
       "<Figure size 640x480 with 1 Axes>"
      ]
     },
     "metadata": {},
     "output_type": "display_data"
    }
   ],
   "source": [
    "fig, ax = plt.subplots(1, 1)\n",
    "#Estos son los resultados obtenidos\n",
    "#Le pasamos una lista con la cordenada x (el grado), y otra con la y (la probabilidad de cada grado).\n",
    "#Para ello dividimos los valores de la lista de nx.degree_histogram entre el numero total de nodos.\n",
    "listax = []\n",
    "listay=[]\n",
    "cont = 0\n",
    "for elem in nx.degree_histogram(G):\n",
    "    if elem!=0:#si no es nulo lo guardamos\n",
    "        listax.append(cont)\n",
    "        listay.append(elem/G.number_of_nodes())\n",
    "    cont=cont+1\n",
    "\n",
    "ax.scatter(listax,listay, color='#00b3b3', label='Data')"
   ]
  },
  {
   "attachments": {},
   "cell_type": "markdown",
   "metadata": {},
   "source": [
    "HOLME KIM "
   ]
  },
  {
   "cell_type": "code",
   "execution_count": 12,
   "metadata": {},
   "outputs": [
    {
     "name": "stdout",
     "output_type": "stream",
     "text": [
      "                      0\n",
      "Nodos        635.000000\n",
      "enlaces     1266.000000\n",
      "GradoMedio     3.987402\n",
      "CConexas       1.000000\n",
      "Clustering     0.044722\n"
     ]
    }
   ],
   "source": [
    "\n",
    "G = nx.Graph()\n",
    "\n",
    "G = nx.powerlaw_cluster_graph(635,2, 0.01)\n",
    "N = G.number_of_nodes()\n",
    "L = G.number_of_edges()\n",
    "average_degree = 2 * L / N\n",
    "numCConexas = nx.number_connected_components(G)\n",
    "\n",
    "clustering_coef = nx.average_clustering(G)\n",
    "myD={'Nodos':N, 'enlaces':L, 'GradoMedio':average_degree, 'CConexas':numCConexas,  'Clustering': clustering_coef}\n",
    "df=pd.DataFrame.from_dict(myD, orient='index')\n",
    "print(df)"
   ]
  },
  {
   "cell_type": "code",
   "execution_count": 10,
   "metadata": {},
   "outputs": [
    {
     "data": {
      "text/plain": [
       "<matplotlib.collections.PathCollection at 0x1ffeb3af1c0>"
      ]
     },
     "execution_count": 10,
     "metadata": {},
     "output_type": "execute_result"
    },
    {
     "data": {
      "image/png": "[encoded data removed]",
      "text/plain": [
       "<Figure size 640x480 with 1 Axes>"
      ]
     },
     "metadata": {},
     "output_type": "display_data"
    }
   ],
   "source": [
    "fig, ax = plt.subplots(1, 1)\n",
    "#Estos son los resultados obtenidos\n",
    "#Le pasamos una lista con la cordenada x (el grado), y otra con la y (la probabilidad de cada grado).\n",
    "#Para ello dividimos los valores de la lista de nx.degree_histogram entre el numero total de nodos.\n",
    "listax = []\n",
    "listay=[]\n",
    "cont = 0\n",
    "for elem in nx.degree_histogram(G):\n",
    "    if elem!=0:#si no es nulo lo guardamos\n",
    "        listax.append(cont)\n",
    "        listay.append(elem/G.number_of_nodes())\n",
    "    cont=cont+1\n",
    "\n",
    "ax.scatter(listax,listay, color='#00b3b3', label='Data')"
   ]
  }
 ],
 "metadata": {
  "kernelspec": {
   "display_name": "Python 3",
   "language": "python",
   "name": "python3"
  },
  "language_info": {
   "codemirror_mode": {
    "name": "ipython",
    "version": 3
   },
   "file_extension": ".py",
   "mimetype": "text/x-python",
   "name": "python",
   "nbconvert_exporter": "python",
   "pygments_lexer": "ipython3",
   "version": "3.10.8"
  },
  "orig_nbformat": 4,
  "vscode": {
   "interpreter": {
    "hash": "94b726c8f5322570b40f638d72bd6cd9fb0c927e05f66e6f75c68aa69cf05a4d"
   }
  }
 },
 "nbformat": 4,
 "nbformat_minor": 2
}
